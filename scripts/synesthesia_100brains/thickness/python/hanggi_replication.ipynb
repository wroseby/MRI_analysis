{
 "cells": [
  {
   "metadata": {},
   "cell_type": "markdown",
   "source": [
    "# A NOTEBOOK TO REPLICATE APPROACH OF HANGGI ET AL. 2011\n",
    "## Cortical thickness\n",
    "Thresholded correlation matrices generated in R."
   ],
   "id": "17b4539250cde08e"
  },
  {
   "cell_type": "code",
   "id": "initial_id",
   "metadata": {
    "collapsed": true,
    "ExecuteTime": {
     "end_time": "2025-03-19T10:53:11.048744Z",
     "start_time": "2025-03-19T10:53:07.034763Z"
    }
   },
   "source": [
    "# Import packages and scripts\n",
    "import itertools\n",
    "import sys\n",
    "from pathlib import Path\n",
    "import pandas as pd\n",
    "import scipy\n",
    "from graph_tool.all import *\n",
    "import matplotlib.pyplot as plt\n",
    "import matplotlib.cm\n",
    "import numpy as np\n",
    "from os import listdir\n",
    "import re\n",
    "import scipy.stats as stats\n",
    "from IPython.display import display\n",
    "from PIL import Image\n",
    "\n",
    "common_path = Path(\"/workspace/scripts/common\")\n",
    "sys.path.append(str(common_path))\n",
    "import networkfuncs # import networkfuncs script"
   ],
   "outputs": [],
   "execution_count": 1
  },
  {
   "metadata": {
    "ExecuteTime": {
     "end_time": "2025-03-18T19:26:12.240140Z",
     "start_time": "2025-03-18T19:26:10.965188Z"
    }
   },
   "cell_type": "code",
   "source": [
    "# Import matrices\n",
    "datapath = '/workspace/shared/synesthesia_100brains/thickness/hanggi_replication/' # set path to data\n",
    "files = listdir(datapath) # get files\n",
    "mats = [str(file) for file in files if re.search('adj_mat_0', file)] # get control subsamples\n",
    "graphs = [] \n",
    "for i in range(len(mats)):\n",
    "    data = pd.read_csv(datapath+mats[i], index_col=0)\n",
    "    graphs.append(Graph(scipy.sparse.lil_matrix(data), directed = False))\n",
    "    remove_self_loops(graphs[i])"
   ],
   "id": "ccd9309539999511",
   "outputs": [],
   "execution_count": 69
  },
  {
   "metadata": {
    "ExecuteTime": {
     "end_time": "2025-03-18T19:26:16.383097Z",
     "start_time": "2025-03-18T19:26:16.377818Z"
    }
   },
   "cell_type": "code",
   "source": "graphs",
   "id": "22a44bc38179c8a7",
   "outputs": [
    {
     "data": {
      "text/plain": [
       "[<Graph object, undirected, with 360 vertices and 50280 edges, 1 internal edge property, at 0x7f93160bec30>,\n",
       " <Graph object, undirected, with 360 vertices and 55075 edges, 1 internal edge property, at 0x7f9314802030>,\n",
       " <Graph object, undirected, with 360 vertices and 46473 edges, 1 internal edge property, at 0x7f931cd42ed0>,\n",
       " <Graph object, undirected, with 360 vertices and 52237 edges, 1 internal edge property, at 0x7f931699b3e0>,\n",
       " <Graph object, undirected, with 360 vertices and 37416 edges, 1 internal edge property, at 0x7f93159a55e0>,\n",
       " <Graph object, undirected, with 360 vertices and 45184 edges, 1 internal edge property, at 0x7f931598c230>,\n",
       " <Graph object, undirected, with 360 vertices and 32799 edges, 1 internal edge property, at 0x7f93148038c0>,\n",
       " <Graph object, undirected, with 360 vertices and 41156 edges, 1 internal edge property, at 0x7f931cd420c0>,\n",
       " <Graph object, undirected, with 360 vertices and 28143 edges, 1 internal edge property, at 0x7f931d019250>,\n",
       " <Graph object, undirected, with 360 vertices and 36896 edges, 1 internal edge property, at 0x7f931cd55760>,\n",
       " <Graph object, undirected, with 360 vertices and 42047 edges, 1 internal edge property, at 0x7f93169a4ef0>,\n",
       " <Graph object, undirected, with 360 vertices and 48948 edges, 1 internal edge property, at 0x7f93160c6270>,\n",
       " <Graph object, undirected, with 360 vertices and 19433 edges, 1 internal edge property, at 0x7f931682dd90>,\n",
       " <Graph object, undirected, with 360 vertices and 28151 edges, 1 internal edge property, at 0x7f93160bb200>,\n",
       " <Graph object, undirected, with 360 vertices and 15632 edges, 1 internal edge property, at 0x7f93169a5040>,\n",
       " <Graph object, undirected, with 360 vertices and 23711 edges, 1 internal edge property, at 0x7f93169993d0>,\n",
       " <Graph object, undirected, with 360 vertices and 12420 edges, 1 internal edge property, at 0x7f931d04d1c0>,\n",
       " <Graph object, undirected, with 360 vertices and 19718 edges, 1 internal edge property, at 0x7f931682e5d0>,\n",
       " <Graph object, undirected, with 360 vertices and 23559 edges, 1 internal edge property, at 0x7f931598d670>,\n",
       " <Graph object, undirected, with 360 vertices and 32511 edges, 1 internal edge property, at 0x7f9315991fd0>,\n",
       " <Graph object, undirected, with 360 vertices and 7284 edges, 1 internal edge property, at 0x7f931699aea0>,\n",
       " <Graph object, undirected, with 360 vertices and 12659 edges, 1 internal edge property, at 0x7f93147ca720>,\n",
       " <Graph object, undirected, with 360 vertices and 5421 edges, 1 internal edge property, at 0x7f931cd4dcd0>,\n",
       " <Graph object, undirected, with 360 vertices and 9748 edges, 1 internal edge property, at 0x7f931683a210>,\n",
       " <Graph object, undirected, with 360 vertices and 3971 edges, 1 internal edge property, at 0x7f9314800800>,\n",
       " <Graph object, undirected, with 360 vertices and 7195 edges, 1 internal edge property, at 0x7f931599e1b0>,\n",
       " <Graph object, undirected, with 360 vertices and 9552 edges, 1 internal edge property, at 0x7f9315992bd0>,\n",
       " <Graph object, undirected, with 360 vertices and 16062 edges, 1 internal edge property, at 0x7f93160cca40>,\n",
       " <Graph object, undirected, with 360 vertices and 1934 edges, 1 internal edge property, at 0x7f931cd46120>,\n",
       " <Graph object, undirected, with 360 vertices and 3480 edges, 1 internal edge property, at 0x7f931598f080>,\n",
       " <Graph object, undirected, with 360 vertices and 2875 edges, 1 internal edge property, at 0x7f93147c8a10>,\n",
       " <Graph object, undirected, with 360 vertices and 5166 edges, 1 internal edge property, at 0x7f93160ccc50>]"
      ]
     },
     "execution_count": 71,
     "metadata": {},
     "output_type": "execute_result"
    }
   ],
   "execution_count": 71
  },
  {
   "metadata": {
    "ExecuteTime": {
     "end_time": "2025-03-18T19:27:15.429432Z",
     "start_time": "2025-03-18T19:26:57.012257Z"
    }
   },
   "cell_type": "code",
   "source": [
    "# Get network metrics\n",
    "net_metrics = [] # initialise metric list\n",
    "for graph, group_name in zip(graphs, ['Control', 'Syn'] * 16): # for each graph and group\n",
    "    net_metric = networkfuncs.measure_net(graph) # get the network metrics\n",
    "    df = net_metric[0] # get metrics\n",
    "    df['Group'] = group_name # get the group name\n",
    "    net_metrics.append(df) # add net metrics to list\n",
    "    \n",
    "net_metrics = pd.concat(net_metrics, ignore_index=True) # turn network metrics into one df\n",
    "thresholds = [re.search(r'\\d\\.\\d+', mat).group() for mat in mats]\n",
    "net_metrics['threshold'] = thresholds\n",
    "\n",
    "print(net_metrics) # print results\n",
    "    "
   ],
   "id": "88ba330e3547289",
   "outputs": [
    {
     "name": "stdout",
     "output_type": "stream",
     "text": [
      "    clustering  efficiency     L_obs   mean_eb   mean_vb    Group threshold\n",
      "0     0.300809    0.289474  1.917499  0.000029  0.001230  Control      0.15\n",
      "1     0.346421    0.324829  1.712265  0.000024  0.000947      Syn      0.15\n",
      "2     0.299829    0.289462  1.917750  0.000031  0.001233  Control     0.175\n",
      "3     0.346454    0.324827  1.712315  0.000026  0.000949      Syn     0.175\n",
      "4     0.296542    0.289044  1.923871  0.000039  0.001314  Control     0.225\n",
      "5     0.345270    0.324636  1.714898  0.000030  0.000987      Syn     0.225\n",
      "6     0.295020    0.287853  1.942611  0.000046  0.001459  Control      0.25\n",
      "7     0.343912    0.324103  1.720864  0.000034  0.001069      Syn      0.25\n",
      "8     0.293446    0.284518       inf  0.000055  0.001591  Control     0.275\n",
      "9     0.342354    0.322761  1.732657  0.000039  0.001219      Syn     0.275\n",
      "10    0.298176    0.289386  1.919149  0.000034  0.001251  Control       0.2\n",
      "11    0.346154    0.324793  1.712860  0.000027  0.000956      Syn       0.2\n",
      "12    0.291549    0.276230       inf  0.000089  0.002074  Control     0.325\n",
      "13    0.337856    0.315466  1.796022  0.000057  0.001689      Syn     0.325\n",
      "14    0.291450    0.268564       inf  0.000117  0.002371  Control      0.35\n",
      "15    0.334915    0.308481       inf  0.000071  0.001945      Syn      0.35\n",
      "16    0.292210    0.258470       inf  0.000156  0.002707  Control     0.375\n",
      "17    0.332793    0.298490       inf  0.000089  0.002149      Syn     0.375\n",
      "18    0.292008    0.281084       inf  0.000070  0.001819  Control       0.3\n",
      "19    0.340239    0.319966  1.758224  0.000047  0.001436      Syn       0.3\n",
      "20    0.293197    0.223378       inf  0.000284  0.003281  Control     0.425\n",
      "21    0.324322    0.268469       inf  0.000145  0.002574      Syn     0.425\n",
      "22    0.291921    0.196777       inf  0.000381  0.003499  Control      0.45\n",
      "23    0.316296    0.246532       inf  0.000187  0.002674      Syn      0.45\n",
      "24    0.288322    0.154627       inf  0.000403  0.002733  Control     0.475\n",
      "25    0.306331    0.217256       inf  0.000247  0.002785      Syn     0.475\n",
      "26    0.292785    0.241547       inf  0.000211  0.003008  Control       0.4\n",
      "27    0.329614    0.287123       inf  0.000113  0.002386      Syn       0.4\n",
      "28    0.274593    0.095495       inf  0.000557  0.001928  Control     0.525\n",
      "29    0.273651    0.138757       inf  0.000342  0.001941      Syn     0.525\n",
      "30    0.285441    0.129890       inf  0.000528  0.002726  Control       0.5\n",
      "31    0.291392    0.185331       inf  0.000326  0.002798      Syn       0.5\n"
     ]
    }
   ],
   "execution_count": 72
  },
  {
   "metadata": {
    "ExecuteTime": {
     "end_time": "2025-03-18T17:27:30.323492Z",
     "start_time": "2025-03-18T16:52:27.075414Z"
    }
   },
   "cell_type": "code",
   "source": [
    "# Get randomised graph metrics\n",
    "def process_graph(graph, num_rewires=100):\n",
    "    net_metrics_list = [] # initialise metrics for each random graph\n",
    "    for _ in range(num_rewires): # for each rewire\n",
    "        graph_copy = graph.copy() # copy graph\n",
    "        random_rewire(graph_copy, model=\"configuration\") # randomise graph but retaining degree sequence \n",
    "        net_metrics_list.append(networkfuncs.measure_net(graph_copy)[0])  # get metrics of random graph\n",
    "        \n",
    "    net_metrics_mean = pd.concat(net_metrics_list).mean().to_frame().T  # get mean over all rewires\n",
    "    return net_metrics_mean # return\n",
    "\n",
    "net_metrics_rand = pd.concat([process_graph(graph) for graph in graphs], ignore_index=True)"
   ],
   "id": "db61c98cc3553bc5",
   "outputs": [],
   "execution_count": 45
  },
  {
   "metadata": {
    "ExecuteTime": {
     "end_time": "2025-03-18T17:44:18.831467Z",
     "start_time": "2025-03-18T17:44:18.821245Z"
    }
   },
   "cell_type": "code",
   "source": [
    "# Add gamma, lambda and sigma to results\n",
    "net_metrics['gamma'] = net_metrics['clustering'] / net_metrics_rand['clustering']\n",
    "net_metrics['lambda'] = net_metrics['L_obs'] / net_metrics_rand['L_obs']\n",
    "net_metrics['sigma'] = net_metrics['gamma'] / net_metrics['lambda']\n",
    "\n",
    "print(net_metrics)"
   ],
   "id": "bf30d007c66724a5",
   "outputs": [
    {
     "name": "stdout",
     "output_type": "stream",
     "text": [
      "    clustering  efficiency     L_obs   mean_eb   mean_vb    Group threshold  \\\n",
      "0     0.282975    0.306802  1.740723  0.000030  0.001415  Control      0.15   \n",
      "1     0.337185    0.335542  1.608988  0.000025  0.001063      Syn      0.15   \n",
      "2     0.276209    0.309308  1.720534  0.000033  0.001472  Control     0.175   \n",
      "3     0.333971    0.337098  1.596114  0.000027  0.001094      Syn     0.175   \n",
      "4     0.258915    0.312436  1.697568  0.000042  0.001562  Control     0.225   \n",
      "5     0.324312    0.340068  1.574430  0.000032  0.001191      Syn     0.225   \n",
      "6     0.251266    0.312228  1.700430  0.000048  0.001604  Control      0.25   \n",
      "7     0.317842    0.341087  1.567961  0.000035  0.001244      Syn      0.25   \n",
      "8     0.243577    0.310648  1.715107  0.000057  0.001691  Control     0.275   \n",
      "9     0.310955    0.341805  1.563027  0.000040  0.001315      Syn     0.275   \n",
      "10    0.267713    0.310889  1.710615  0.000037  0.001523  Control       0.2   \n",
      "11    0.329703    0.339051  1.581668  0.000029  0.001146      Syn       0.2   \n",
      "12    0.231228    0.303862  1.768827  0.000089  0.002034  Control     0.325   \n",
      "13    0.296724    0.337980  1.591915  0.000056  0.001620      Syn     0.325   \n",
      "14    0.225354    0.294754       inf  0.000113  0.002195  Control      0.35   \n",
      "15    0.288970    0.332565       inf  0.000069  0.001805      Syn      0.35   \n",
      "16    0.220419    0.284608       inf  0.000148  0.002403  Control     0.375   \n",
      "17    0.282948    0.322811       inf  0.000085  0.001966      Syn     0.375   \n",
      "18    0.235912    0.308489  1.731937  0.000070  0.001825  Control       0.3   \n",
      "19    0.303972    0.340462  1.574342  0.000047  0.001433      Syn       0.3   \n",
      "20    0.203151    0.257264       inf  0.000267  0.002843  Control     0.425   \n",
      "21    0.267569    0.293243       inf  0.000138  0.002302      Syn     0.425   \n",
      "22    0.193954    0.233102       inf  0.000350  0.002905  Control      0.45   \n",
      "23    0.256112    0.272058       inf  0.000178  0.002398      Syn      0.45   \n",
      "24    0.183613    0.202749       inf  0.000434  0.002718  Control     0.475   \n",
      "25    0.243392    0.245933       inf  0.000237  0.002479      Syn     0.475   \n",
      "26    0.210434    0.273270       inf  0.000200  0.002658  Control       0.4   \n",
      "27    0.276900    0.311551       inf  0.000107  0.002135      Syn       0.4   \n",
      "28    0.161236    0.132936       inf  0.000653  0.002118  Control     0.525   \n",
      "29    0.195491    0.179189       inf  0.000415  0.002287      Syn     0.525   \n",
      "30    0.173858    0.169668       inf  0.000527  0.002460  Control       0.5   \n",
      "31    0.222078    0.217009       inf  0.000316  0.002486      Syn       0.5   \n",
      "\n",
      "       gamma    lambda     sigma  \n",
      "0   1.008316  1.007652  1.000659  \n",
      "1   1.004280  1.005352  0.998934  \n",
      "2   1.009297  1.006766  1.002514  \n",
      "3   1.005874  1.005675  1.000198  \n",
      "4   1.009244  1.003135  1.006090  \n",
      "5   1.007242  1.006638  1.000601  \n",
      "6   1.008449  1.000762  1.007681  \n",
      "7   1.008534  1.005362  1.003155  \n",
      "8   1.005485  1.001639  1.003840  \n",
      "9   1.008201  1.003990  1.004195  \n",
      "10  1.010203  1.007200  1.002982  \n",
      "11  1.006396  1.005721  1.000672  \n",
      "12  1.003776  1.002275  1.001497  \n",
      "13  1.007620  1.002986  1.004621  \n",
      "14  1.002402       NaN       NaN  \n",
      "15  1.005961       NaN       NaN  \n",
      "16  1.006512       NaN       NaN  \n",
      "17  1.004834       NaN       NaN  \n",
      "18  1.002486  1.000289  1.002196  \n",
      "19  1.008030  1.003509  1.004505  \n",
      "20  1.000842       NaN       NaN  \n",
      "21  0.998693       NaN       NaN  \n",
      "22  1.002006       NaN       NaN  \n",
      "23  0.994105       NaN       NaN  \n",
      "24  0.987201       NaN       NaN  \n",
      "25  1.002458       NaN       NaN  \n",
      "26  0.999262       NaN       NaN  \n",
      "27  1.003422       NaN       NaN  \n",
      "28  1.034227       NaN       NaN  \n",
      "29  0.997523       NaN       NaN  \n",
      "30  1.002691       NaN       NaN  \n",
      "31  1.004297       NaN       NaN  \n"
     ]
    }
   ],
   "execution_count": 50
  },
  {
   "metadata": {
    "ExecuteTime": {
     "end_time": "2025-03-18T17:46:10.004849Z",
     "start_time": "2025-03-18T17:46:09.982580Z"
    }
   },
   "cell_type": "code",
   "source": "net_metrics.to_csv(datapath+'hanggi_original_thresholds_net_metrics.csv', index=False)",
   "id": "77058a5d54f0c6c",
   "outputs": [],
   "execution_count": 51
  },
  {
   "metadata": {},
   "cell_type": "markdown",
   "source": [
    "## Repeat for different thresholds\n",
    "Since using the original thresholds left some nodes disconnected, let's now repeat the process but using some other thresholds. Below, we have shifted the thresholds to now go up to the threshold that caused node disconnection previously; however, we have retained the same intervals as before."
   ],
   "id": "ef7a9916f92d91dc"
  },
  {
   "metadata": {
    "ExecuteTime": {
     "end_time": "2025-03-18T19:31:05.305530Z",
     "start_time": "2025-03-18T19:31:04.288208Z"
    }
   },
   "cell_type": "code",
   "source": [
    "# Import matrices\n",
    "datapath = '/workspace/shared/synesthesia_100brains/thickness/hanggi_replication/' # set path to data\n",
    "files = listdir(datapath) # get files\n",
    "mats = [str(file) for file in files if re.search('adj_mat_shift', file)] # get control subsamples\n",
    "graphs = [] \n",
    "for i in range(len(mats)):\n",
    "    data = pd.read_csv(datapath+mats[i], index_col=0)\n",
    "    graphs.append(Graph(scipy.sparse.lil_matrix(data), directed = False))\n",
    "    remove_self_loops(graphs[i])"
   ],
   "id": "db153e6c10f6b9f7",
   "outputs": [],
   "execution_count": 73
  },
  {
   "metadata": {
    "ExecuteTime": {
     "end_time": "2025-03-18T19:32:20.782425Z",
     "start_time": "2025-03-18T19:32:01.747847Z"
    }
   },
   "cell_type": "code",
   "source": [
    "# Get network metrics\n",
    "net_metrics = [] # initialise metric list\n",
    "for graph, group_name in zip(graphs, ['Control', 'Syn'] * 10): # for each graph and group\n",
    "    net_metric = networkfuncs.measure_net(graph) # get the network metrics\n",
    "    df = net_metric[0] # get metrics\n",
    "    df['Group'] = group_name # get the group name\n",
    "    net_metrics.append(df) # add net metrics to list\n",
    "    \n",
    "net_metrics = pd.concat(net_metrics, ignore_index=True) # turn network metrics into one df\n",
    "thresholds = [re.search(r'\\d\\.\\d+', mat).group() for mat in mats]\n",
    "net_metrics['threshold'] = thresholds\n",
    "\n",
    "print(net_metrics) # print results\n",
    "    "
   ],
   "id": "7f15024e3b0287be",
   "outputs": [
    {
     "name": "stdout",
     "output_type": "stream",
     "text": [
      "    clustering  efficiency     L_obs   mean_eb   mean_vb    Group threshold\n",
      "0     0.301397    0.289477  1.917412  0.000023  0.001229  Control     0.025\n",
      "1     0.345402    0.324830  1.712256  0.000021  0.000947      Syn     0.025\n",
      "2     0.301513    0.289477  1.917412  0.000024  0.001229  Control      0.05\n",
      "3     0.345515    0.324830  1.712256  0.000022  0.000947      Syn      0.05\n",
      "4     0.301630    0.289477  1.917412  0.000025  0.001229  Control     0.075\n",
      "5     0.345711    0.324830  1.712256  0.000022  0.000947      Syn     0.075\n",
      "6     0.301438    0.289477  1.917412  0.000027  0.001229  Control     0.125\n",
      "7     0.346264    0.324830  1.712256  0.000023  0.000947      Syn     0.125\n",
      "8     0.300809    0.289474  1.917499  0.000029  0.001230  Control      0.15\n",
      "9     0.346421    0.324829  1.712265  0.000024  0.000947      Syn      0.15\n",
      "10    0.299829    0.289462  1.917750  0.000031  0.001233  Control     0.175\n",
      "11    0.346454    0.324827  1.712315  0.000026  0.000949      Syn     0.175\n",
      "12    0.301645    0.289477  1.917412  0.000025  0.001229  Control       0.1\n",
      "13    0.345961    0.324830  1.712256  0.000023  0.000947      Syn       0.1\n",
      "14    0.296542    0.289044  1.923871  0.000039  0.001314  Control     0.225\n",
      "15    0.345270    0.324636  1.714898  0.000030  0.000987      Syn     0.225\n",
      "16    0.295020    0.287853  1.942611  0.000046  0.001459  Control      0.25\n",
      "17    0.343912    0.324103  1.720864  0.000034  0.001069      Syn      0.25\n",
      "18    0.298176    0.289386  1.919149  0.000034  0.001251  Control       0.2\n",
      "19    0.346154    0.324793  1.712860  0.000027  0.000956      Syn       0.2\n"
     ]
    }
   ],
   "execution_count": 75
  },
  {
   "metadata": {
    "ExecuteTime": {
     "end_time": "2025-03-18T20:13:53.836805Z",
     "start_time": "2025-03-18T19:32:37.446032Z"
    }
   },
   "cell_type": "code",
   "source": [
    "# Get randomised graph metrics\n",
    "def process_graph(graph, num_rewires=100):\n",
    "    net_metrics_list = [] # initialise metrics for each random graph\n",
    "    for _ in range(num_rewires): # for each rewire\n",
    "        graph_copy = graph.copy() # copy graph\n",
    "        random_rewire(graph_copy, model=\"configuration\") # randomise graph but retaining degree sequence \n",
    "        net_metrics_list.append(networkfuncs.measure_net(graph_copy)[0])  # get metrics of random graph\n",
    "        \n",
    "    net_metrics_mean = pd.concat(net_metrics_list).mean().to_frame().T  # get mean over all rewires\n",
    "    return net_metrics_mean # return\n",
    "\n",
    "net_metrics_rand = pd.concat([process_graph(graph) for graph in graphs], ignore_index=True)"
   ],
   "id": "8a7c5441cd5a9619",
   "outputs": [],
   "execution_count": 76
  },
  {
   "metadata": {
    "ExecuteTime": {
     "end_time": "2025-03-18T20:39:20.744658Z",
     "start_time": "2025-03-18T20:39:20.723610Z"
    }
   },
   "cell_type": "code",
   "source": [
    "# Add gamma, lambda and sigma to results\n",
    "net_metrics['gamma'] = net_metrics['clustering'] / net_metrics_rand['clustering']\n",
    "net_metrics['lambda'] = net_metrics['L_obs'] / net_metrics_rand['L_obs']\n",
    "net_metrics['sigma'] = net_metrics['gamma'] / net_metrics['lambda']\n",
    "\n",
    "print(net_metrics)"
   ],
   "id": "7a7bf62cc726ccac",
   "outputs": [
    {
     "name": "stdout",
     "output_type": "stream",
     "text": [
      "    clustering  efficiency     L_obs   mean_eb   mean_vb    Group threshold  \\\n",
      "0     0.301397    0.289477  1.917412  0.000023  0.001229  Control     0.025   \n",
      "1     0.345402    0.324830  1.712256  0.000021  0.000947      Syn     0.025   \n",
      "2     0.301513    0.289477  1.917412  0.000024  0.001229  Control      0.05   \n",
      "3     0.345515    0.324830  1.712256  0.000022  0.000947      Syn      0.05   \n",
      "4     0.301630    0.289477  1.917412  0.000025  0.001229  Control     0.075   \n",
      "5     0.345711    0.324830  1.712256  0.000022  0.000947      Syn     0.075   \n",
      "6     0.301438    0.289477  1.917412  0.000027  0.001229  Control     0.125   \n",
      "7     0.346264    0.324830  1.712256  0.000023  0.000947      Syn     0.125   \n",
      "8     0.300809    0.289474  1.917499  0.000029  0.001230  Control      0.15   \n",
      "9     0.346421    0.324829  1.712265  0.000024  0.000947      Syn      0.15   \n",
      "10    0.299829    0.289462  1.917750  0.000031  0.001233  Control     0.175   \n",
      "11    0.346454    0.324827  1.712315  0.000026  0.000949      Syn     0.175   \n",
      "12    0.301645    0.289477  1.917412  0.000025  0.001229  Control       0.1   \n",
      "13    0.345961    0.324830  1.712256  0.000023  0.000947      Syn       0.1   \n",
      "14    0.296542    0.289044  1.923871  0.000039  0.001314  Control     0.225   \n",
      "15    0.345270    0.324636  1.714898  0.000030  0.000987      Syn     0.225   \n",
      "16    0.295020    0.287853  1.942611  0.000046  0.001459  Control      0.25   \n",
      "17    0.343912    0.324103  1.720864  0.000034  0.001069      Syn      0.25   \n",
      "18    0.298176    0.289386  1.919149  0.000034  0.001251  Control       0.2   \n",
      "19    0.346154    0.324793  1.712860  0.000027  0.000956      Syn       0.2   \n",
      "\n",
      "       gamma    lambda     sigma  \n",
      "0   1.004964  1.021448  0.983862  \n",
      "1   1.001334  1.008776  0.992623  \n",
      "2   1.007971  1.028287  0.980243  \n",
      "3   1.002651  1.014675  0.988150  \n",
      "4   1.012588  1.037626  0.975870  \n",
      "5   1.004644  1.021791  0.983218  \n",
      "6   1.027076  1.061571  0.967506  \n",
      "7   1.011123  1.036533  0.975486  \n",
      "8   1.038649  1.073924  0.967153  \n",
      "9   1.016414  1.045275  0.972389  \n",
      "10  1.053945  1.086556  0.969987  \n",
      "11  1.023196  1.053704  0.971047  \n",
      "12  1.018439  1.048615  0.971223  \n",
      "13  1.007371  1.028690  0.979275  \n",
      "14  1.101303  1.108525  0.993485  \n",
      "15  1.041283  1.069629  0.973500  \n",
      "16  1.129061  1.120957  1.007230  \n",
      "17  1.054267  1.077328  0.978594  \n",
      "18  1.075213  1.097856  0.979375  \n",
      "19  1.031004  1.061224  0.971523  \n"
     ]
    }
   ],
   "execution_count": 77
  },
  {
   "metadata": {
    "ExecuteTime": {
     "end_time": "2025-03-18T20:39:38.497643Z",
     "start_time": "2025-03-18T20:39:38.476426Z"
    }
   },
   "cell_type": "code",
   "source": "net_metrics.to_csv(datapath+'hanggi_shifted_thresholds_net_metrics.csv', index=False)",
   "id": "c83707164ec84677",
   "outputs": [],
   "execution_count": 78
  },
  {
   "metadata": {},
   "cell_type": "markdown",
   "source": [
    "## Adjusted thresholds\n",
    "The shifted thresholds don't have much change for the first half of threshold values. Here we have adjusted the thresholds to cover a smaller range, taking smaller steps"
   ],
   "id": "76478bff1f72af60"
  },
  {
   "metadata": {
    "ExecuteTime": {
     "end_time": "2025-03-19T11:04:15.129945Z",
     "start_time": "2025-03-19T11:04:13.759333Z"
    }
   },
   "cell_type": "code",
   "source": [
    "# Import matrices\n",
    "datapath = '/workspace/shared/synesthesia_100brains/thickness/hanggi_replication/'  # set path to data\n",
    "files = listdir(datapath)  # get files\n",
    "mats = [str(file) for file in files if re.search('adj_mat_adjust', file)]  # get control subsamples\n",
    "graphs = []\n",
    "for i in range(len(mats)):\n",
    "    data = pd.read_csv(datapath + mats[i], index_col=0)\n",
    "    graphs.append(Graph(scipy.sparse.lil_matrix(data), directed=False))\n",
    "    remove_self_loops(graphs[i])"
   ],
   "id": "d998316a2c8cb462",
   "outputs": [],
   "execution_count": 4
  },
  {
   "metadata": {
    "ExecuteTime": {
     "end_time": "2025-03-19T11:04:33.744221Z",
     "start_time": "2025-03-19T11:04:15.131681Z"
    }
   },
   "cell_type": "code",
   "source": [
    "# Get network metrics\n",
    "net_metrics = []  # initialise metric list\n",
    "for graph, group_name in zip(graphs, ['Control', 'Syn'] * 11):  # for each graph and group\n",
    "    net_metric = networkfuncs.measure_net(graph)  # get the network metrics\n",
    "    df = net_metric[0]  # get metrics\n",
    "    df['Group'] = group_name  # get the group name\n",
    "    net_metrics.append(df)  # add net metrics to list\n",
    "\n",
    "net_metrics = pd.concat(net_metrics, ignore_index=True)  # turn network metrics into one df\n",
    "thresholds = [re.search(r'\\d\\.\\d+', mat).group() for mat in mats]\n",
    "net_metrics['threshold'] = thresholds\n",
    "\n",
    "print(net_metrics)  # print results"
   ],
   "id": "2db392ac727b247b",
   "outputs": [
    {
     "name": "stdout",
     "output_type": "stream",
     "text": [
      "    clustering  efficiency     L_obs   mean_eb   mean_vb    Group threshold\n",
      "0     0.301438    0.289477  1.917412  0.000027  0.001229  Control     0.125\n",
      "1     0.346264    0.324830  1.712256  0.000023  0.000947      Syn     0.125\n",
      "2     0.301216    0.289476  1.917444  0.000028  0.001229  Control    0.1375\n",
      "3     0.346377    0.324829  1.712257  0.000024  0.000947      Syn    0.1375\n",
      "4     0.300809    0.289474  1.917499  0.000029  0.001230  Control      0.15\n",
      "5     0.346421    0.324829  1.712265  0.000024  0.000947      Syn      0.15\n",
      "6     0.300336    0.289470  1.917585  0.000030  0.001231  Control    0.1625\n",
      "7     0.346408    0.324828  1.712281  0.000025  0.000948      Syn    0.1625\n",
      "8     0.299829    0.289462  1.917750  0.000031  0.001233  Control     0.175\n",
      "9     0.346454    0.324827  1.712315  0.000026  0.000949      Syn     0.175\n",
      "10    0.299073    0.289432  1.918415  0.000033  0.001240  Control    0.1875\n",
      "11    0.346409    0.324817  1.712484  0.000026  0.000951      Syn    0.1875\n",
      "12    0.297484    0.289272  1.920812  0.000037  0.001275  Control    0.2125\n",
      "13    0.345790    0.324743  1.713536  0.000029  0.000967      Syn    0.2125\n",
      "14    0.296542    0.289044  1.923871  0.000039  0.001314  Control     0.225\n",
      "15    0.345270    0.324636  1.714898  0.000030  0.000987      Syn     0.225\n",
      "16    0.295822    0.288505  1.934026  0.000043  0.001379  Control    0.2375\n",
      "17    0.344719    0.324448  1.716946  0.000032  0.001019      Syn    0.2375\n",
      "18    0.295020    0.287853  1.942611  0.000046  0.001459  Control      0.25\n",
      "19    0.343912    0.324103  1.720864  0.000034  0.001069      Syn      0.25\n",
      "20    0.298176    0.289386  1.919149  0.000034  0.001251  Control       0.2\n",
      "21    0.346154    0.324793  1.712860  0.000027  0.000956      Syn       0.2\n"
     ]
    }
   ],
   "execution_count": 5
  },
  {
   "metadata": {
    "ExecuteTime": {
     "end_time": "2025-03-19T11:46:11.694655Z",
     "start_time": "2025-03-19T11:04:33.745940Z"
    }
   },
   "cell_type": "code",
   "source": [
    "# Get randomised graph metrics\n",
    "def process_graph(graph, num_rewires=100):\n",
    "    net_metrics_list = [] # initialise metrics for each random graph\n",
    "    for _ in range(num_rewires): # for each rewire\n",
    "        graph_copy = graph.copy() # copy graph\n",
    "        random_rewire(graph_copy, model=\"configuration\") # randomise graph but retaining degree sequence \n",
    "        net_metrics_list.append(networkfuncs.measure_net(graph_copy)[0])  # get metrics of random graph\n",
    "        \n",
    "    net_metrics_mean = pd.concat(net_metrics_list).mean().to_frame().T  # get mean over all rewires\n",
    "    return net_metrics_mean # return\n",
    "\n",
    "net_metrics_rand = pd.concat([process_graph(graph) for graph in graphs], ignore_index=True)"
   ],
   "id": "73acd704971a28d7",
   "outputs": [],
   "execution_count": 6
  },
  {
   "metadata": {
    "ExecuteTime": {
     "end_time": "2025-03-19T11:46:11.706891Z",
     "start_time": "2025-03-19T11:46:11.696438Z"
    }
   },
   "cell_type": "code",
   "source": [
    "# Add gamma, lambda and sigma to results\n",
    "net_metrics['gamma'] = net_metrics['clustering'] / net_metrics_rand['clustering']\n",
    "net_metrics['lambda'] = net_metrics['L_obs'] / net_metrics_rand['L_obs']\n",
    "net_metrics['sigma'] = net_metrics['gamma'] / net_metrics['lambda']\n",
    "\n",
    "print(net_metrics)"
   ],
   "id": "4ba4df15faf6c2b4",
   "outputs": [
    {
     "name": "stdout",
     "output_type": "stream",
     "text": [
      "    clustering  efficiency     L_obs   mean_eb   mean_vb    Group threshold  \\\n",
      "0     0.301438    0.289477  1.917412  0.000027  0.001229  Control     0.125   \n",
      "1     0.346264    0.324830  1.712256  0.000023  0.000947      Syn     0.125   \n",
      "2     0.301216    0.289476  1.917444  0.000028  0.001229  Control    0.1375   \n",
      "3     0.346377    0.324829  1.712257  0.000024  0.000947      Syn    0.1375   \n",
      "4     0.300809    0.289474  1.917499  0.000029  0.001230  Control      0.15   \n",
      "5     0.346421    0.324829  1.712265  0.000024  0.000947      Syn      0.15   \n",
      "6     0.300336    0.289470  1.917585  0.000030  0.001231  Control    0.1625   \n",
      "7     0.346408    0.324828  1.712281  0.000025  0.000948      Syn    0.1625   \n",
      "8     0.299829    0.289462  1.917750  0.000031  0.001233  Control     0.175   \n",
      "9     0.346454    0.324827  1.712315  0.000026  0.000949      Syn     0.175   \n",
      "10    0.299073    0.289432  1.918415  0.000033  0.001240  Control    0.1875   \n",
      "11    0.346409    0.324817  1.712484  0.000026  0.000951      Syn    0.1875   \n",
      "12    0.297484    0.289272  1.920812  0.000037  0.001275  Control    0.2125   \n",
      "13    0.345790    0.324743  1.713536  0.000029  0.000967      Syn    0.2125   \n",
      "14    0.296542    0.289044  1.923871  0.000039  0.001314  Control     0.225   \n",
      "15    0.345270    0.324636  1.714898  0.000030  0.000987      Syn     0.225   \n",
      "16    0.295822    0.288505  1.934026  0.000043  0.001379  Control    0.2375   \n",
      "17    0.344719    0.324448  1.716946  0.000032  0.001019      Syn    0.2375   \n",
      "18    0.295020    0.287853  1.942611  0.000046  0.001459  Control      0.25   \n",
      "19    0.343912    0.324103  1.720864  0.000034  0.001069      Syn      0.25   \n",
      "20    0.298176    0.289386  1.919149  0.000034  0.001251  Control       0.2   \n",
      "21    0.346154    0.324793  1.712860  0.000027  0.000956      Syn       0.2   \n",
      "\n",
      "       gamma    lambda     sigma  \n",
      "0   1.027155  1.061843  0.967332  \n",
      "1   1.011034  1.036349  0.975573  \n",
      "2   1.032450  1.067921  0.966786  \n",
      "3   1.013443  1.040724  0.973787  \n",
      "4   1.038712  1.074405  0.966779  \n",
      "5   1.016359  1.045007  0.972586  \n",
      "6   1.045937  1.080690  0.967841  \n",
      "7   1.019556  1.048903  0.972021  \n",
      "8   1.053841  1.086278  0.970139  \n",
      "9   1.023173  1.053501  0.971213  \n",
      "10  1.063855  1.092171  0.974074  \n",
      "11  1.026876  1.057255  0.971266  \n",
      "12  1.087212  1.102788  0.985876  \n",
      "13  1.035470  1.064831  0.972426  \n",
      "14  1.100950  1.108085  0.993561  \n",
      "15  1.041205  1.069148  0.973864  \n",
      "16  1.114890  1.114843  1.000042  \n",
      "17  1.047597  1.073610  0.975771  \n",
      "18  1.129097  1.121474  1.006797  \n",
      "19  1.054465  1.077790  0.978359  \n",
      "20  1.075104  1.098327  0.978856  \n",
      "21  1.031133  1.061449  0.971439  \n"
     ]
    }
   ],
   "execution_count": 7
  },
  {
   "metadata": {
    "ExecuteTime": {
     "end_time": "2025-03-19T11:47:09.424281Z",
     "start_time": "2025-03-19T11:47:09.411328Z"
    }
   },
   "cell_type": "code",
   "source": "net_metrics.to_csv(datapath+'hanggi_adjusted_thresholds_net_metrics.csv', index=False)",
   "id": "4e14ff35c325754",
   "outputs": [],
   "execution_count": 8
  },
  {
   "metadata": {},
   "cell_type": "code",
   "outputs": [],
   "execution_count": null,
   "source": "",
   "id": "6fcc6d23c42c9506"
  }
 ],
 "metadata": {
  "kernelspec": {
   "display_name": "Python 3",
   "language": "python",
   "name": "python3"
  },
  "language_info": {
   "codemirror_mode": {
    "name": "ipython",
    "version": 2
   },
   "file_extension": ".py",
   "mimetype": "text/x-python",
   "name": "python",
   "nbconvert_exporter": "python",
   "pygments_lexer": "ipython2",
   "version": "2.7.6"
  }
 },
 "nbformat": 4,
 "nbformat_minor": 5
}
