{
 "cells": [
  {
   "cell_type": "code",
   "id": "initial_id",
   "metadata": {
    "collapsed": true,
    "ExecuteTime": {
     "end_time": "2025-01-03T13:00:30.533280Z",
     "start_time": "2025-01-03T13:00:30.529261Z"
    }
   },
   "source": [
    "# NOTEBOOK TO TEST ACCESS OF GRAPHTOOL AND COMMON SCRIPTS FROM JUPYTER CONTAINER #\n",
    "\n",
    "import sys\n",
    "from pathlib import Path\n",
    "\n",
    "# Add the common scripts folder to the Python path\n",
    "common_path = Path(\"/workspace/scripts/common\")\n",
    "sys.path.append(str(common_path))\n",
    "import networkfuncs # import networkfuncs script\n",
    "from graph_tool.all import * # import graph-tool"
   ],
   "outputs": [],
   "execution_count": 12
  },
  {
   "metadata": {
    "ExecuteTime": {
     "end_time": "2025-01-03T13:00:31.124343Z",
     "start_time": "2025-01-03T13:00:31.119675Z"
    }
   },
   "cell_type": "code",
   "source": [
    "# Test imported function works\n",
    "networkfuncs.test(a = 1, b = 2)"
   ],
   "id": "c9c81f274476aa31",
   "outputs": [
    {
     "data": {
      "text/plain": [
       "3"
      ]
     },
     "execution_count": 13,
     "metadata": {},
     "output_type": "execute_result"
    }
   ],
   "execution_count": 13
  },
  {
   "metadata": {},
   "cell_type": "code",
   "outputs": [],
   "execution_count": null,
   "source": "",
   "id": "7d2958cb4d8cad34"
  }
 ],
 "metadata": {
  "kernelspec": {
   "display_name": "Python 3",
   "language": "python",
   "name": "python3"
  },
  "language_info": {
   "codemirror_mode": {
    "name": "ipython",
    "version": 2
   },
   "file_extension": ".py",
   "mimetype": "text/x-python",
   "name": "python",
   "nbconvert_exporter": "python",
   "pygments_lexer": "ipython2",
   "version": "2.7.6"
  }
 },
 "nbformat": 4,
 "nbformat_minor": 5
}
